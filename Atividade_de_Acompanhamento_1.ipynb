{
  "nbformat": 4,
  "nbformat_minor": 0,
  "metadata": {
    "colab": {
      "name": "Atividade de Acompanhamento 1.ipynb",
      "provenance": [],
      "collapsed_sections": [],
      "include_colab_link": true
    },
    "kernelspec": {
      "name": "python3",
      "display_name": "Python 3"
    },
    "language_info": {
      "name": "python"
    }
  },
  "cells": [
    {
      "cell_type": "markdown",
      "metadata": {
        "id": "view-in-github",
        "colab_type": "text"
      },
      "source": [
        "<a href=\"https://colab.research.google.com/github/MathewsJosh/Topicos-Computacao-Cientifica-II/blob/main/Atividade_de_Acompanhamento_1.ipynb\" target=\"_parent\"><img src=\"https://colab.research.google.com/assets/colab-badge.svg\" alt=\"Open In Colab\"/></a>"
      ]
    },
    {
      "cell_type": "markdown",
      "metadata": {
        "id": "tP4AqW_Xv5hC"
      },
      "source": [
        "ATIVIDADE DE ACOMPANHAMENTO 1\n",
        "\n",
        "Disciplina: Tópicos em Computação Científica II\n",
        "\n",
        "Aluno: Mathews Edwirds Gomes Almeida"
      ]
    },
    {
      "cell_type": "markdown",
      "metadata": {
        "id": "4KWT7zfIWL8f"
      },
      "source": [
        "# Manipulação simples de imagens\n",
        "\n",
        "Nesse notebook veremos algumas instruções para manipulação básica de imagens utilizando OpenCV.\n",
        "\n",
        "## 1 - Importando os pacotes\n",
        "\n",
        "Inicialmente precisamos importar os pacotes necessários: OpenCV, NumPy e Matplotlib "
      ]
    },
    {
      "cell_type": "code",
      "metadata": {
        "id": "kdly5hSHTTrr"
      },
      "source": [
        "import cv2 as cv\n",
        "import numpy as np\n",
        "from matplotlib import pyplot as plt"
      ],
      "execution_count": null,
      "outputs": []
    },
    {
      "cell_type": "markdown",
      "metadata": {
        "id": "spxSbdLvbMqg"
      },
      "source": [
        "## 2 - Leitura da imagem\n",
        "\n",
        "O método `imread` é responsável pela leitura de uma imagem. O endereço da imagem é passado como parâmetro."
      ]
    },
    {
      "cell_type": "code",
      "metadata": {
        "id": "6ffDq-7VnQ2r",
        "colab": {
          "base_uri": "https://localhost:8080/"
        },
        "outputId": "73b71735-91a9-4c1b-de13-7e7f01287ab0"
      },
      "source": [
        "from google.colab import drive\n",
        "drive.mount('/content/drive')"
      ],
      "execution_count": null,
      "outputs": [
        {
          "name": "stdout",
          "output_type": "stream",
          "text": [
            "Go to this URL in a browser: https://accounts.google.com/o/oauth2/auth?client_id=947318989803-6bn6qk8qdgf4n4g3pfee6491hc0brc4i.apps.googleusercontent.com&redirect_uri=urn%3aietf%3awg%3aoauth%3a2.0%3aoob&scope=email%20https%3a%2f%2fwww.googleapis.com%2fauth%2fdocs.test%20https%3a%2f%2fwww.googleapis.com%2fauth%2fdrive%20https%3a%2f%2fwww.googleapis.com%2fauth%2fdrive.photos.readonly%20https%3a%2f%2fwww.googleapis.com%2fauth%2fpeopleapi.readonly%20https%3a%2f%2fwww.googleapis.com%2fauth%2fdrive.activity.readonly%20https%3a%2f%2fwww.googleapis.com%2fauth%2fexperimentsandconfigs%20https%3a%2f%2fwww.googleapis.com%2fauth%2fphotos.native&response_type=code\n",
            "\n",
            "Enter your authorization code:\n",
            "4/1AX4XfWgNM80RXBHiXnzWrUr3MHnrVErDHRbSykacwN8tY5RCVeuGO0q43lM\n"
          ]
        }
      ]
    },
    {
      "cell_type": "code",
      "metadata": {
        "id": "F4OYLf3vbNjo"
      },
      "source": [
        "image = cv.imread(\"/content/drive/MyDrive/ColabFiles/Logo_da_UFJF.jpg\")"
      ],
      "execution_count": null,
      "outputs": []
    },
    {
      "cell_type": "markdown",
      "metadata": {
        "id": "PUPKy3PUegxO"
      },
      "source": [
        "## 3 - Conversão do sistema de cores\n",
        "\n",
        "Por padrão, OpenCV armazena as imagens no formato BGR. Mas para exibição utilizando Matplotlib precisamos estar no formato RGB. O método `cvtcolor` realiza essa conversão."
      ]
    },
    {
      "cell_type": "code",
      "metadata": {
        "id": "p7tt_QdUee51"
      },
      "source": [
        "image = cv.cvtColor(image, cv.COLOR_BGR2RGB)"
      ],
      "execution_count": null,
      "outputs": []
    },
    {
      "cell_type": "markdown",
      "metadata": {
        "id": "utcDSYJjfI6R"
      },
      "source": [
        "## 4 - Exibição de imagem\n",
        "\n",
        "Para exibição da imagem diretamente no IPython Notebook, precisamos utilizar o Matplotlib. A linha `%matplotlib inline` permite essa exibição."
      ]
    },
    {
      "cell_type": "code",
      "metadata": {
        "id": "U4ieHOjhf5zr"
      },
      "source": [
        "%matplotlib inline\n",
        "\n",
        "plt.imshow(image)\n",
        "plt.show()"
      ],
      "execution_count": null,
      "outputs": []
    },
    {
      "cell_type": "markdown",
      "metadata": {
        "id": "GvwyVtR1W8NH"
      },
      "source": [
        "## 6 - Exercícios\n",
        "\n",
        "Usando comandos `for` atribua a cor verde para todos os *pixels* (i,j) em que 100 < i < 200 e 100 < j < 200. Consulte [aqui](https://https://www.w3schools.com/python/python_for_loops.asp) a sintaxe do comando for em Python. \n"
      ]
    },
    {
      "cell_type": "code",
      "metadata": {
        "id": "KhliAgOcX5c5"
      },
      "source": [
        "#Imagem com caixa vermelha\n",
        "imagem_vermelha = image.copy()\n",
        "imagem_vermelha[100:201, 100:201] = [255,0,0]\n",
        "\n",
        "plt.imshow(imagem_vermelha)\n",
        "plt.show()\n",
        "\n",
        "#Mudança de cor dos canais\n",
        "\n",
        "#Canal Vermelho\n",
        "imagem_canal_vermelho = imagem_vermelha.copy()\n",
        "imagem_canal_vermelho[:,:,1] = 0\n",
        "imagem_canal_vermelho[:,:,2] = 0\n",
        "\n",
        "plt.imshow(imagem_canal_vermelho)\n",
        "plt.show()\n",
        "\n",
        "#Canal Verde\n",
        "imagem_canal_verde = imagem_vermelha.copy()\n",
        "imagem_canal_verde[:,:,0] = 0\n",
        "imagem_canal_verde[:,:,2] = 0\n",
        "\n",
        "plt.imshow(imagem_canal_verde)\n",
        "plt.show()\n",
        "\n",
        "#Canal Azul\n",
        "imagem_canal_azul = imagem_vermelha.copy()\n",
        "imagem_canal_azul[:,:,0] = 0\n",
        "imagem_canal_azul[:,:,1] = 0\n",
        "\n",
        "plt.imshow(imagem_canal_azul)\n",
        "plt.show()"
      ],
      "execution_count": null,
      "outputs": []
    },
    {
      "cell_type": "markdown",
      "metadata": {
        "id": "cHlxKWRN_E-s"
      },
      "source": [
        "## 7 - Salvando imagem\n",
        "\n",
        "Para salvar uma imagem em arquivo, basta utilizar o método `imwrite`. Esse método também assume que a imagem está no formato BGR. Portanto, precisamos desfazer a conversão que fizemos anteriormente."
      ]
    },
    {
      "cell_type": "code",
      "metadata": {
        "id": "Iuv7gq15_jCP"
      },
      "source": [
        "image = cv.cvtColor(image, cv.COLOR_RGB2BGR)\n",
        "cv.imwrite(\"/content/drive/MyDrive/ColabFiles/output.jpg\", image)"
      ],
      "execution_count": null,
      "outputs": []
    },
    {
      "cell_type": "code",
      "metadata": {
        "id": "Nyt-L9x6M0uI"
      },
      "source": [
        ""
      ],
      "execution_count": null,
      "outputs": []
    }
  ]
}